{
 "cells": [
  {
   "cell_type": "markdown",
   "metadata": {},
   "source": [
    "# Set Up"
   ]
  },
  {
   "cell_type": "code",
   "execution_count": null,
   "metadata": {
    "collapsed": true
   },
   "outputs": [],
   "source": [
    "# Import the functions we need from pymongo\n",
    "from pymongo import MongoClient"
   ]
  },
  {
   "cell_type": "code",
   "execution_count": null,
   "metadata": {
    "collapsed": true
   },
   "outputs": [],
   "source": [
    "# Create a MongoClient to connect to the database\n",
    "client = MongoClient('localhost', 27017)"
   ]
  },
  {
   "cell_type": "code",
   "execution_count": null,
   "metadata": {
    "collapsed": true
   },
   "outputs": [],
   "source": [
    "# Specify the database to use\n",
    "db = client.pythonbicookbook"
   ]
  },
  {
   "cell_type": "code",
   "execution_count": null,
   "metadata": {
    "collapsed": true
   },
   "outputs": [],
   "source": [
    "# Specify the collection to use\n",
    "collection = db.accidents\n",
    "\n",
    "# Alternatively you can use dictionary-style access\n",
    "# collection = db['test-collection']"
   ]
  },
  {
   "cell_type": "markdown",
   "metadata": {},
   "source": [
    "# Retrieve a single record"
   ]
  },
  {
   "cell_type": "code",
   "execution_count": null,
   "metadata": {},
   "outputs": [],
   "source": [
    "# Find the first document in the collection\n",
    "collection.find_one()"
   ]
  },
  {
   "cell_type": "code",
   "execution_count": null,
   "metadata": {},
   "outputs": [],
   "source": [
    "# Find the first document in the collection where the accident happened on a Sunday\n",
    "collection.find_one({\"Day_of_Week\": 1})\n",
    "\n",
    "# Find the first document in the collection where the accident happened on a Friday and there were two cars involved\n",
    "collection.find_one({\"Day_of_Week\": 1, \"Number_of_Vehicles\": 2})"
   ]
  },
  {
   "cell_type": "markdown",
   "metadata": {},
   "source": [
    "# Retrieve multiple records"
   ]
  },
  {
   "cell_type": "code",
   "execution_count": null,
   "metadata": {},
   "outputs": [],
   "source": [
    "# Get all records where the accident happened on a Friday\n",
    "data = collection.find({\"Day_of_Week\": 6})\n",
    "# # Show a count for the result\n",
    "data.count()\n",
    "\n",
    "# Uncomment the next two lines to crush your computer while attempting to show a LOT of records\n",
    "# for accident in collection.find({\"Day_of_Week\": 7}):\n",
    "#     print(accident['_id'])"
   ]
  },
  {
   "cell_type": "code",
   "execution_count": null,
   "metadata": {},
   "outputs": [],
   "source": [
    "# Get all accidents with between 1 and 3 cars\n",
    "data = collection.find({\"Number_of_Vehicles\": {\"$in\": [1,2,3]}})\n",
    "data.count()"
   ]
  },
  {
   "cell_type": "code",
   "execution_count": null,
   "metadata": {},
   "outputs": [],
   "source": [
    "# Get all accidents where there were either 1 or 2 cars involved AND the accidents were fatal\n",
    "data = collection.find({\"Number_of_Vehicles\": {\"$in\": [1,2]}}, {\"Accident_Severity\": 1})\n",
    "data.count()"
   ]
  },
  {
   "cell_type": "markdown",
   "metadata": {},
   "source": [
    "**For the next two sections, we'll create a new collection in MongoDB called \"Test Data\"**"
   ]
  },
  {
   "cell_type": "markdown",
   "metadata": {},
   "source": [
    "Note: when you attempt to use a collection that doesn't yet exist in MongoDB, it will be automatically created for you."
   ]
  },
  {
   "cell_type": "markdown",
   "metadata": {},
   "source": [
    "# Insert a single record"
   ]
  },
  {
   "cell_type": "code",
   "execution_count": null,
   "metadata": {},
   "outputs": [],
   "source": [
    "# Build a customer record that will go into our database\n",
    "# Outside of this script, this would be done by your application\n",
    "import datetime\n",
    "new_customer = {\"first_name\": \"Bob\",\n",
    "            \"last_name\": \"Smith\",\n",
    "            \"address_1\": \"123 Main Street\",\n",
    "            \"address_2\": \"Suite 200\",\n",
    "            \"city\": \"Washington\",\n",
    "            \"state\": \"DC\",\n",
    "            \"zipcode\": \"20036\",\n",
    "            \"interests\": [\"product_1\", \"product_4\", \"product_7\"],\n",
    "            \"contact_requested\": True,\n",
    "            \"created_at\": datetime.datetime.utcnow(),\n",
    "            \"updated_at\": datetime.datetime.utcnow()}"
   ]
  },
  {
   "cell_type": "code",
   "execution_count": null,
   "metadata": {},
   "outputs": [],
   "source": [
    "customers = db.customers\n",
    "customer_id = customers.insert_one(new_customer).inserted_id\n",
    "customer_id"
   ]
  },
  {
   "cell_type": "markdown",
   "metadata": {},
   "source": [
    "# Insert multiple records"
   ]
  },
  {
   "cell_type": "code",
   "execution_count": null,
   "metadata": {},
   "outputs": [],
   "source": [
    "new_customers = [{\"first_name\": \"Jane\",\n",
    "                    \"last_name\": \"Doe\",\n",
    "                    \"address_1\": \"123 12th Street NW\",\n",
    "                    \"address_2\": \"Suite 1200\",\n",
    "                    \"city\": \"Washington\",\n",
    "                \"state\": \"DC\",\n",
    "                \"zipcode\": \"20036\",\n",
    "                \"interests\": [\"product_2\", \"product_3\", \"product_8\"],\n",
    "                \"contact_requested\": False,\n",
    "                \"created_at\": datetime.datetime.utcnow(),\n",
    "                \"updated_at\": datetime.datetime.utcnow()},\n",
    "                 {\"first_name\": \"Jordan\",\n",
    "                    \"last_name\": \"Belfry\",\n",
    "                    \"address_1\": \"19340 17th Street SE\",\n",
    "                    \"address_2\": \"Suite 50\",\n",
    "                    \"city\": \"Washington\",\n",
    "                \"state\": \"DC\",\n",
    "                \"zipcode\": \"20034\",\n",
    "                \"interests\": [\"product_1\", \"product_2\", \"product_3\"],\n",
    "                \"contact_requested\": False,\n",
    "                \"created_at\": datetime.datetime.utcnow(),\n",
    "                \"updated_at\": datetime.datetime.utcnow()}]\n",
    "customers = db.customers\n",
    "new_customer_ids = customers.insert_many(new_customers)\n",
    "new_customer_ids.inserted_ids"
   ]
  },
  {
   "cell_type": "markdown",
   "metadata": {},
   "source": [
    "# Update a single record"
   ]
  },
  {
   "cell_type": "code",
   "execution_count": null,
   "metadata": {},
   "outputs": [],
   "source": [
    "# Find the record you want to update and save the ID\n",
    "customers.find_one_and_update(\n",
    "    {\"first_name\": \"Bob\", \"last_name\": \"Smith\"}, \n",
    "    {'$set': {'contacted': False, 'updated_at': datetime.datetime.utcnow()}})"
   ]
  },
  {
   "cell_type": "markdown",
   "metadata": {},
   "source": [
    "# Update multiple records"
   ]
  },
  {
   "cell_type": "code",
   "execution_count": null,
   "metadata": {},
   "outputs": [],
   "source": [
    "result = customers.update_many(\n",
    "            { 'first_name': { '$exists': True } },\n",
    "            {'$set': {'contacted': False, 'updated_at': datetime.datetime.utcnow()}})\n",
    "result.matched_count"
   ]
  },
  {
   "cell_type": "markdown",
   "metadata": {},
   "source": [
    "# Delete a single record"
   ]
  },
  {
   "cell_type": "code",
   "execution_count": null,
   "metadata": {},
   "outputs": [],
   "source": [
    "result = customers.delete_one({ 'first_name': 'Bob', 'last_name': 'Smith' })\n",
    "result.deleted_count"
   ]
  },
  {
   "cell_type": "markdown",
   "metadata": {},
   "source": [
    "# Delete multiple records"
   ]
  },
  {
   "cell_type": "code",
   "execution_count": null,
   "metadata": {},
   "outputs": [],
   "source": [
    "result = customers.delete_many({ 'contact_requested': False })\n",
    "result.deleted_count"
   ]
  },
  {
   "cell_type": "code",
   "execution_count": null,
   "metadata": {
    "collapsed": true
   },
   "outputs": [],
   "source": []
  }
 ],
 "metadata": {
  "kernelspec": {
   "display_name": "Python 3",
   "language": "python",
   "name": "python3"
  },
  "language_info": {
   "codemirror_mode": {
    "name": "ipython",
    "version": 3
   },
   "file_extension": ".py",
   "mimetype": "text/x-python",
   "name": "python",
   "nbconvert_exporter": "python",
   "pygments_lexer": "ipython3",
   "version": "3.6.2"
  }
 },
 "nbformat": 4,
 "nbformat_minor": 1
}
