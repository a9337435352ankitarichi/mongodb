{
 "cells": [
  {
   "cell_type": "markdown",
   "metadata": {},
   "source": [
    "# Build a Shareable Dashboard Using iPython Notebook and Matplotlib"
   ]
  },
  {
   "cell_type": "markdown",
   "metadata": {},
   "source": [
    "In this notebook we're going to build a dashboard that we can then share with others."
   ]
  },
  {
   "cell_type": "markdown",
   "metadata": {},
   "source": [
    "What we're going to do is build our dashboard in iPython Notebook and then use the nbconvert tool from Jupyter (the new name for iPython Notebook) to convert our notebook into another format, specifically HTML. We can then share that HTML page with others."
   ]
  },
  {
   "cell_type": "markdown",
   "metadata": {},
   "source": [
    "## Steps to Take"
   ]
  },
  {
   "cell_type": "markdown",
   "metadata": {
    "collapsed": true
   },
   "source": [
    "Step 1: Ensure you have the latest version of Jupyter\n",
    "\n",
    "    conda install jupyter\n",
    "\n",
    "Step 2: Install the nbconvert utility\n",
    "\n",
    "    pip install nbconvert\n",
    "    \n",
    "Step 3: Build the dashboard - that will be all the code that follows\n",
    "\n",
    "Step 4: Use the nbconvert utility to convert the notebook to an HTML file.\n",
    "\n",
    "    jupyter nbconvert --execute '2 - Build a Shareable Dashboard Using iPython Notebook and Matplotlib.ipynb'\n",
    "\n",
    "The \"execute\" argument will run the notebook before exporting it. This allows us to automate the creation of the dashboard, and ensure that we're using the latest data in either the database or a data file.\n",
    "\n",
    "If you'd like more information check out the following links:\n",
    "\n",
    "    * nbconvert: http://nbconvert.readthedocs.org/en/latest/index.html\n",
    "    * Jupyter: http://jupyter.readthedocs.org/en/latest/index.html"
   ]
  },
  {
   "cell_type": "markdown",
   "metadata": {},
   "source": [
    "## Dashboard"
   ]
  },
  {
   "cell_type": "markdown",
   "metadata": {},
   "source": [
    "For this dashboard we will generate a number of charts from chapter 4, specifically the distribution analysis, categorical variable analysis and time-series analysis. While our dataset is static, you will want to point the dashboard to a file that is updated, or use a database query that pulls data for a specific time period such as the last seven days."
   ]
  },
  {
   "cell_type": "markdown",
   "metadata": {},
   "source": [
    "## Accident Data Distribution Analysis"
   ]
  },
  {
   "cell_type": "code",
   "execution_count": null,
   "metadata": {
    "collapsed": true
   },
   "outputs": [],
   "source": [
    "# Import the Python libraries we need\n",
    "import pandas as pd\n",
    "import numpy as np\n",
    "import matplotlib\n",
    "import matplotlib.pyplot as plt\n",
    "\n",
    "%matplotlib inline"
   ]
  },
  {
   "cell_type": "code",
   "execution_count": null,
   "metadata": {
    "collapsed": true
   },
   "outputs": [],
   "source": [
    "# Define a variable for the accidents data file\n",
    "accidents_data_file = '/Users/robertdempsey/Dropbox/private/Python Business Intelligence Cookbook/Data/Stats19-Data1979-2004/Accidents7904.csv'\n",
    "\n",
    "accidents = pd.read_csv(accidents_data_file,\n",
    "                        sep=',',\n",
    "                        header=0,\n",
    "                        index_col=False,\n",
    "                        parse_dates=True,\n",
    "                        tupleize_cols=False,\n",
    "                        error_bad_lines=False,\n",
    "                        warn_bad_lines=True,\n",
    "                        skip_blank_lines=True,\n",
    "                        low_memory=False\n",
    "                        )"
   ]
  },
  {
   "cell_type": "markdown",
   "metadata": {},
   "source": [
    "### Weather Conditions"
   ]
  },
  {
   "cell_type": "code",
   "execution_count": null,
   "metadata": {},
   "outputs": [],
   "source": [
    "fig = plt.figure()\n",
    "ax = fig.add_subplot(111)\n",
    "ax.hist(accidents['Weather_Conditions'], \n",
    "        range = (accidents['Weather_Conditions'].min(),accidents['Weather_Conditions'].max()))\n",
    "counts, bins, patches = ax.hist(accidents['Weather_Conditions'], facecolor='green', edgecolor='gray')\n",
    "ax.set_xticks(bins)\n",
    "plt.title('Weather Conditions Distribution')\n",
    "plt.xlabel('Weather Condition')\n",
    "plt.ylabel('Count of Weather Condition')\n",
    "plt.show()"
   ]
  },
  {
   "cell_type": "markdown",
   "metadata": {},
   "source": [
    "### Light Conditions"
   ]
  },
  {
   "cell_type": "code",
   "execution_count": null,
   "metadata": {},
   "outputs": [],
   "source": [
    "accidents.boxplot(column='Light_Conditions',\n",
    "                  return_type='dict');"
   ]
  },
  {
   "cell_type": "markdown",
   "metadata": {},
   "source": [
    "### Light Conditions Grouped by Weather Conditions"
   ]
  },
  {
   "cell_type": "code",
   "execution_count": null,
   "metadata": {},
   "outputs": [],
   "source": [
    "accidents.boxplot(column='Light_Conditions',\n",
    "                  by = 'Weather_Conditions',\n",
    "                  return_type='dict');"
   ]
  },
  {
   "cell_type": "markdown",
   "metadata": {},
   "source": [
    "## Categorical Variable Analysis"
   ]
  },
  {
   "cell_type": "markdown",
   "metadata": {},
   "source": [
    "### Distribution of Casualties by Day of the Week"
   ]
  },
  {
   "cell_type": "code",
   "execution_count": null,
   "metadata": {},
   "outputs": [],
   "source": [
    "casualty_count = accidents.groupby('Day_of_Week').Number_of_Casualties.count()\n",
    "casualty_probability = accidents.groupby('Day_of_Week').Number_of_Casualties.sum()/accidents.groupby('Day_of_Week').Number_of_Casualties.count()\n",
    "fig = plt.figure(figsize=(8,4))\n",
    "ax1 = fig.add_subplot(121)\n",
    "ax1.set_xlabel('Day of Week')\n",
    "ax1.set_ylabel('Casualty Count')\n",
    "ax1.set_title(\"Casualties by Day of Week\")\n",
    "casualty_count.plot(kind='bar')\n",
    "\n",
    "ax2 = fig.add_subplot(122)\n",
    "casualty_probability.plot(kind = 'bar')\n",
    "ax2.set_xlabel('Day of Week')\n",
    "ax2.set_ylabel('Probability of Casualties')\n",
    "ax2.set_title(\"Probability of Casualties by Day of Week\")"
   ]
  },
  {
   "cell_type": "markdown",
   "metadata": {},
   "source": [
    "## Time-Series Analysis"
   ]
  },
  {
   "cell_type": "markdown",
   "metadata": {},
   "source": [
    "### Number of Casualties Over Time (Entire Dataset)"
   ]
  },
  {
   "cell_type": "code",
   "execution_count": null,
   "metadata": {},
   "outputs": [],
   "source": [
    "# Create a dataframe containing the total number of casualties by date\n",
    "casualty_count = accidents.groupby('Date').agg({'Number_of_Casualties': np.sum})\n",
    "\n",
    "# Convert the index to a DateTimeIndex\n",
    "casualty_count.index = pd.to_datetime(casualty_count.index)\n",
    "\n",
    "# Sort the index so the plot looks correct\n",
    "casualty_count.sort_index(inplace=True,\n",
    "                          ascending=True)\n",
    "\n",
    "# Plot the data\n",
    "casualty_count.plot(figsize=(18, 4))"
   ]
  },
  {
   "cell_type": "markdown",
   "metadata": {},
   "source": [
    "### Number of Casualties in The Year 2000"
   ]
  },
  {
   "cell_type": "code",
   "execution_count": null,
   "metadata": {},
   "outputs": [],
   "source": [
    "# Plot one year of the data\n",
    "casualty_count['2000'].plot(figsize=(18, 4))"
   ]
  },
  {
   "cell_type": "markdown",
   "metadata": {},
   "source": [
    "### Number of Casualties in the 1980's (Bar Graph)"
   ]
  },
  {
   "cell_type": "code",
   "execution_count": null,
   "metadata": {},
   "outputs": [],
   "source": [
    "# Plot the yearly total casualty count for each year in the 1980's\n",
    "the1980s = casualty_count['1980-01-01':'1989-12-31'].groupby(casualty_count['1980-01-01':'1989-12-31'].index.year).sum()\n",
    "the1980s\n",
    "\n",
    "# Show the plot\n",
    "the1980s.plot(kind='bar',\n",
    "              figsize=(18, 4))"
   ]
  },
  {
   "cell_type": "markdown",
   "metadata": {},
   "source": [
    "### Number of Casualties in the 1980's (Line Graph)"
   ]
  },
  {
   "cell_type": "code",
   "execution_count": null,
   "metadata": {},
   "outputs": [],
   "source": [
    "# Plot the 80's data as a line graph to better see the differences in years\n",
    "the1980s.plot(figsize=(18, 4))"
   ]
  },
  {
   "cell_type": "markdown",
   "metadata": {},
   "source": [
    "## Share This Dashboard"
   ]
  },
  {
   "cell_type": "markdown",
   "metadata": {},
   "source": [
    "To share this dashboard as an HTML file, run the following command in the directory where the notebook is located:\n",
    "    \n",
    "    jupyter nbconvert --to html --execute '2 - Build a Shareable Dashboard Using iPython Notebook and Matplotlib.ipynb'"
   ]
  },
  {
   "cell_type": "code",
   "execution_count": null,
   "metadata": {
    "collapsed": true
   },
   "outputs": [],
   "source": []
  }
 ],
 "metadata": {
  "kernelspec": {
   "display_name": "Python 3",
   "language": "python",
   "name": "python3"
  },
  "language_info": {
   "codemirror_mode": {
    "name": "ipython",
    "version": 3
   },
   "file_extension": ".py",
   "mimetype": "text/x-python",
   "name": "python",
   "nbconvert_exporter": "python",
   "pygments_lexer": "ipython3",
   "version": "3.6.2"
  }
 },
 "nbformat": 4,
 "nbformat_minor": 1
}
