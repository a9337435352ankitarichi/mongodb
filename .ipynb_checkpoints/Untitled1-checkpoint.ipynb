{
 "cells": [
  {
   "cell_type": "code",
   "execution_count": 5,
   "metadata": {},
   "outputs": [
    {
     "data": {
      "text/plain": [
       "{'1st_Road_Class': 6,\n",
       " '1st_Road_Number': 0,\n",
       " '2nd_Road_Class': -1,\n",
       " '2nd_Road_Number': 0,\n",
       " 'Accident_Index': 2009120052042,\n",
       " 'Accident_Severity': 2,\n",
       " 'Carriageway_Hazards': 2,\n",
       " 'Date': '2009-03-29',\n",
       " 'Day_of_Week': 1,\n",
       " 'Did_Police_Officer_Attend_Scene_of_Accident': 1,\n",
       " 'Junction_Control': -1,\n",
       " 'Junction_Detail': 0,\n",
       " 'LSOA_of_Accident_Location': 'E01013366',\n",
       " 'Latitude': 53.960403,\n",
       " 'Light_Conditions': 1,\n",
       " 'Local_Authority_(District)': 189,\n",
       " 'Local_Authority_(Highway)': 'E06000014',\n",
       " 'Location_Easting_OSGR ': 460260,\n",
       " 'Location_Northing_OSGR': 451980,\n",
       " 'Longitude': -1.083053,\n",
       " 'Number_of_Casualties': 1,\n",
       " 'Number_of_Vehicles': 1,\n",
       " 'Pedestrian_Crossing-Human_Control': 0,\n",
       " 'Pedestrian_Crossing-Physical_Facilities': 0,\n",
       " 'Police_Force': 12,\n",
       " 'Road_Surface_Conditions': 1,\n",
       " 'Road_Type': 6,\n",
       " 'Special_Conditions_at_Site': 0,\n",
       " 'Speed_limit': 30,\n",
       " 'Time': '16:39:00.0000000',\n",
       " 'Urban_or_Rural_Area': 1,\n",
       " 'Weather_Conditions': 1,\n",
       " '_id': ObjectId('5a54af9af8bc7a2fd05e5bd7')}"
      ]
     },
     "execution_count": 5,
     "metadata": {},
     "output_type": "execute_result"
    }
   ],
   "source": [
    "from pymongo import MongoClient\n",
    "client = MongoClient('localhost', 27017)\n",
    "db = client.pythonbicookbook\n",
    "accidents = db.accidents\n",
    "# Find the first document in the collection\n",
    "accidents.find_one()\n",
    "# Find the first document in the collection where the accident\n",
    "#happened on a Sunday\n",
    "accidents.find_one({\"Day_of_Week\": 1})"
   ]
  },
  {
   "cell_type": "code",
   "execution_count": null,
   "metadata": {
    "collapsed": true
   },
   "outputs": [],
   "source": []
  }
 ],
 "metadata": {
  "kernelspec": {
   "display_name": "Python 3",
   "language": "python",
   "name": "python3"
  },
  "language_info": {
   "codemirror_mode": {
    "name": "ipython",
    "version": 3
   },
   "file_extension": ".py",
   "mimetype": "text/x-python",
   "name": "python",
   "nbconvert_exporter": "python",
   "pygments_lexer": "ipython3",
   "version": "3.6.2"
  }
 },
 "nbformat": 4,
 "nbformat_minor": 2
}
