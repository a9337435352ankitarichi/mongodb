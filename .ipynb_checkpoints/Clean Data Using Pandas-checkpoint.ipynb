{
 "cells": [
  {
   "cell_type": "markdown",
   "metadata": {},
   "source": [
    "# Clean Data Using Pandas"
   ]
  },
  {
   "cell_type": "markdown",
   "metadata": {},
   "source": [
    "## Import the libraries we need"
   ]
  },
  {
   "cell_type": "code",
   "execution_count": null,
   "metadata": {
    "collapsed": true
   },
   "outputs": [],
   "source": [
    "import pandas as pd"
   ]
  },
  {
   "cell_type": "markdown",
   "metadata": {
    "collapsed": true
   },
   "source": [
    "## Import data into Pandas"
   ]
  },
  {
   "cell_type": "code",
   "execution_count": null,
   "metadata": {},
   "outputs": [],
   "source": [
    "# Use the fake dataset file we created\n",
    "raw_data_file = '/Users/robertdempsey/Dropbox/Private/Python Business Intelligence Cookbook/Code/chapter2/customer_data_mini.csv'\n",
    "raw_data = pd.read_csv(raw_data_file,\n",
    "                        sep=',',\n",
    "                        header=0,\n",
    "                        index_col=False,\n",
    "                        parse_dates=True,\n",
    "                        tupleize_cols=False,\n",
    "                        error_bad_lines=False,\n",
    "                        warn_bad_lines=False,\n",
    "                        skip_blank_lines=True\n",
    "                        )\n",
    "raw_data.head()"
   ]
  },
  {
   "cell_type": "markdown",
   "metadata": {
    "collapsed": true
   },
   "source": [
    "## Rename column headers"
   ]
  },
  {
   "cell_type": "code",
   "execution_count": null,
   "metadata": {},
   "outputs": [],
   "source": [
    "raw_data.columns"
   ]
  },
  {
   "cell_type": "code",
   "execution_count": null,
   "metadata": {},
   "outputs": [],
   "source": [
    "raw_data.rename(columns={'birth date': 'date_of_birth',\n",
    "                         'customer loyalty level': 'customer_loyalty_level',\n",
    "                         'first name': 'first_name',\n",
    "                         'last name': 'last_name',\n",
    "                         'ssn': 'social_security_number',\n",
    "                         'postcode': 'zipcode',\n",
    "                         'job': 'position'}, inplace=True)\n",
    "raw_data.columns"
   ]
  },
  {
   "cell_type": "markdown",
   "metadata": {
    "collapsed": true
   },
   "source": [
    "## Fill in missing values"
   ]
  },
  {
   "cell_type": "code",
   "execution_count": null,
   "metadata": {},
   "outputs": [],
   "source": [
    "# Replace all missing values a string - 'Missing'\n",
    "raw_data.fillna('Missing', inplace=True)\n",
    "raw_data"
   ]
  },
  {
   "cell_type": "code",
   "execution_count": null,
   "metadata": {
    "collapsed": true
   },
   "outputs": [],
   "source": [
    "# Replace all missing values with a 0\n",
    "raw_data.fillna(0, inplace=True)"
   ]
  },
  {
   "cell_type": "code",
   "execution_count": null,
   "metadata": {
    "collapsed": true
   },
   "outputs": [],
   "source": [
    "# Common practice - replace all missing values with the mean of the dataframe\n",
    "raw_data.fillna(raw_data.mean(), inplace=True)"
   ]
  },
  {
   "cell_type": "code",
   "execution_count": null,
   "metadata": {},
   "outputs": [],
   "source": [
    "# Common practice - replace the missing values of a single colum with the mean of that column\n",
    "raw_data['marketing_score'].fillna(raw_data.mean()['marketing_score'], inplace=True)\n",
    "raw_data"
   ]
  },
  {
   "cell_type": "markdown",
   "metadata": {
    "collapsed": true
   },
   "source": [
    "## Remove punctuation"
   ]
  },
  {
   "cell_type": "code",
   "execution_count": null,
   "metadata": {},
   "outputs": [],
   "source": [
    "import string\n",
    "\n",
    "exclude = set(string.punctuation)\n",
    "\n",
    "def remove_punctuation(x):\n",
    "    \"\"\"\n",
    "    Helper function to remove punctuation from a string\n",
    "    x: any string\n",
    "    \"\"\"\n",
    "    try:\n",
    "        x = ''.join(ch for ch in x if ch not in exclude)\n",
    "    except:\n",
    "        pass\n",
    "    return x\n",
    "\n",
    "raw_data.last_name = raw_data.last_name.apply(remove_punctuation)\n",
    "raw_data"
   ]
  },
  {
   "cell_type": "markdown",
   "metadata": {
    "collapsed": true
   },
   "source": [
    "## Remove whitespace"
   ]
  },
  {
   "cell_type": "code",
   "execution_count": null,
   "metadata": {},
   "outputs": [],
   "source": [
    "def remove_whitespace(x):\n",
    "    \"\"\"\n",
    "    Helper function to remove any blank space from a string\n",
    "    x: any string\n",
    "    \"\"\"\n",
    "    try:\n",
    "        x = \"\".join(x.split())\n",
    "    except:\n",
    "        pass\n",
    "    return x\n",
    "\n",
    "raw_data.last_name = raw_data.last_name.apply(remove_whitespace)\n",
    "raw_data"
   ]
  },
  {
   "cell_type": "markdown",
   "metadata": {
    "collapsed": true
   },
   "source": [
    "## Remove any string from within a string"
   ]
  },
  {
   "cell_type": "code",
   "execution_count": null,
   "metadata": {},
   "outputs": [],
   "source": [
    "def remove_internal_abbreviations(s, thing_to_replace, replacement_string):\n",
    "    \"\"\"\n",
    "    Helper function to remove things such as 'F/K/A' from a string\n",
    "    s: the string to replace a value in\n",
    "    thing_to_replace: what you want to replace in the given string\n",
    "    replacement_string: the string to use as a replacement\n",
    "    \"\"\"\n",
    "    try:\n",
    "        s = s.replace(thing_to_replace, replacement_string)\n",
    "    except:\n",
    "        pass\n",
    "    return s\n",
    "\n",
    "raw_data['last_name'] = raw_data.apply(lambda x: remove_internal_abbreviations(x['last_name'], \"FKA\", \"-\"), axis=1)\n",
    "raw_data"
   ]
  },
  {
   "cell_type": "code",
   "execution_count": null,
   "metadata": {
    "collapsed": true
   },
   "outputs": [],
   "source": []
  }
 ],
 "metadata": {
  "kernelspec": {
   "display_name": "Python 3",
   "language": "python",
   "name": "python3"
  },
  "language_info": {
   "codemirror_mode": {
    "name": "ipython",
    "version": 3
   },
   "file_extension": ".py",
   "mimetype": "text/x-python",
   "name": "python",
   "nbconvert_exporter": "python",
   "pygments_lexer": "ipython3",
   "version": "3.6.2"
  }
 },
 "nbformat": 4,
 "nbformat_minor": 1
}
