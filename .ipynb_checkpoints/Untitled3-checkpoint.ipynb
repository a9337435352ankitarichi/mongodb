{
 "cells": [
  {
   "cell_type": "markdown",
   "metadata": {},
   "source": [
    "Inserting a single record using PyMongo"
   ]
  },
  {
   "cell_type": "code",
   "execution_count": 1,
   "metadata": {},
   "outputs": [
    {
     "name": "stdout",
     "output_type": "stream",
     "text": [
      "5a55a27d00e2b745a4918c6f\n"
     ]
    }
   ],
   "source": [
    "from pymongo import MongoClient\n",
    "client = MongoClient('localhost', 27017)\n",
    "db = client.pythonbicookbook\n",
    "customers = db.customers\n",
    "import datetime\n",
    "new_customer = {\"first_name\": \"Bob\",\n",
    "\"last_name\": \"Smith\",\n",
    "\"address_1\": \"123 Main Street\",\n",
    "\"address_2\": \"Suite 200\",\n",
    "\"city\": \"Washington\",\n",
    "\"state\": \"DC\",\n",
    "\"zipcode\": \"20036\",\n",
    "\"interests\": [\"product_1\", \"product_4\", \"product_7\"],\n",
    "\"contact_requested\": True,\n",
    "\"created_at\": datetime.datetime.utcnow(),\n",
    "\"updated_at\": datetime.datetime.utcnow()}\n",
    "customer_id = customers.insert_one(new_customer).inserted_id\n",
    "print(customer_id)"
   ]
  },
  {
   "cell_type": "markdown",
   "metadata": {},
   "source": [
    "Inserting multiple documents using PyMongo"
   ]
  },
  {
   "cell_type": "code",
   "execution_count": 3,
   "metadata": {},
   "outputs": [
    {
     "name": "stdout",
     "output_type": "stream",
     "text": [
      "[ObjectId('5a55a54b00e2b745a4918c72'), ObjectId('5a55a54b00e2b745a4918c73')]\n"
     ]
    }
   ],
   "source": [
    "from pymongo import MongoClient\n",
    "client = MongoClient('localhost', 27017)\n",
    "db = client.pythonbicookbook\n",
    "customers = db.customers\n",
    "new_customers = [{\"first_name\": \"Jane\",\n",
    "\"last_name\": \"Doe\",\n",
    "\"address_1\": \"123 12th Street NW\",\n",
    "\"address_2\": \"Suite 1200\",\n",
    "\"city\": \"Washington\",\n",
    "\"state\": \"DC\",\n",
    "\"zipcode\": \"20036\",\n",
    "\"interests\": [\"product_2\", \"product_3\", \"product_8\"],\n",
    "\"contact_requested\": False,\n",
    "\"created_at\": datetime.datetime.utcnow(),\n",
    "\"updated_at\": datetime.datetime.utcnow()},\n",
    "{\"first_name\": \"Jordan\",\n",
    "\"last_name\": \"Belfry\",\n",
    "\"address_1\": \"19340 17th Street SE\",\n",
    "\"address_2\": \"Suite 50\",\n",
    "\"city\": \"Washington\",\n",
    "\"state\": \"DC\",\n",
    "\"zipcode\": \"20034\",\n",
    "\"interests\": [\"product_1\", \"product_2\", \"product_3\"],\n",
    "\"contact_requested\": False,\n",
    "\"created_at\": datetime.datetime.utcnow(),\n",
    "\"updated_at\": datetime.datetime.utcnow()}]\n",
    "\n",
    "new_customer_ids = customers.insert_many(new_customers)\n",
    "print(new_customer_ids.inserted_ids)"
   ]
  },
  {
   "cell_type": "markdown",
   "metadata": {},
   "source": [
    "Updating a single record using pymongo"
   ]
  },
  {
   "cell_type": "code",
   "execution_count": 4,
   "metadata": {},
   "outputs": [
    {
     "data": {
      "text/plain": [
       "{'_id': ObjectId('5a55a27d00e2b745a4918c6f'),\n",
       " 'address_1': '123 Main Street',\n",
       " 'address_2': 'Suite 200',\n",
       " 'city': 'Washington',\n",
       " 'contact_requested': True,\n",
       " 'created_at': datetime.datetime(2018, 1, 10, 5, 19, 57, 976000),\n",
       " 'first_name': 'Bob',\n",
       " 'interests': ['product_1', 'product_4', 'product_7'],\n",
       " 'last_name': 'Smith',\n",
       " 'state': 'DC',\n",
       " 'updated_at': datetime.datetime(2018, 1, 10, 5, 19, 57, 976000),\n",
       " 'zipcode': '20036'}"
      ]
     },
     "execution_count": 4,
     "metadata": {},
     "output_type": "execute_result"
    }
   ],
   "source": [
    "from pymongo import MongoClient\n",
    "client=MongoClient('localhost',27017)\n",
    "db=client.pythonbicookbook\n",
    "customers=db.customers\n",
    "customers.find_one_and_update(\n",
    "    {\n",
    "        \"first_name\":\"Bob\",\"last_name\":\"Smith\"\n",
    "    },\n",
    "    {'$set':{'contacted':False,'updated_at':datetime.datetime.utcnow()}}\n",
    ")"
   ]
  },
  {
   "cell_type": "markdown",
   "metadata": {},
   "source": [
    "Updating multiple records using PyMongo"
   ]
  },
  {
   "cell_type": "code",
   "execution_count": 7,
   "metadata": {},
   "outputs": [
    {
     "data": {
      "text/plain": [
       "3"
      ]
     },
     "execution_count": 7,
     "metadata": {},
     "output_type": "execute_result"
    }
   ],
   "source": [
    "from pymongo import MongoClient\n",
    "client = MongoClient('localhost', 27017)\n",
    "db = client.pythonbicookbook\n",
    "customers = db.customers\n",
    "\n",
    "\n",
    "result = customers.update_many(\n",
    "            { 'first_name': { '$exists': True } },\n",
    "            {'$set': {'contacted': False, 'updated_at': datetime.datetime.utcnow()}})\n",
    "result.matched_count"
   ]
  },
  {
   "cell_type": "markdown",
   "metadata": {},
   "source": [
    "Deleting a single record using pymongo"
   ]
  },
  {
   "cell_type": "code",
   "execution_count": 8,
   "metadata": {},
   "outputs": [
    {
     "name": "stdout",
     "output_type": "stream",
     "text": [
      "1\n"
     ]
    }
   ],
   "source": [
    "from pymongo import MongoClient\n",
    "client = MongoClient('localhost', 27017)\n",
    "db = client.pythonbicookbook\n",
    "customers = db.customers\n",
    "result = customers.delete_one({\n",
    "'first_name': 'Bob',\n",
    "'last_name': 'Smith' })\n",
    "print(result.deleted_count)"
   ]
  },
  {
   "cell_type": "code",
   "execution_count": null,
   "metadata": {
    "collapsed": true
   },
   "outputs": [],
   "source": [
    "Deleting multiple records using pymongo"
   ]
  }
 ],
 "metadata": {
  "kernelspec": {
   "display_name": "Python 3",
   "language": "python",
   "name": "python3"
  },
  "language_info": {
   "codemirror_mode": {
    "name": "ipython",
    "version": 3
   },
   "file_extension": ".py",
   "mimetype": "text/x-python",
   "name": "python",
   "nbconvert_exporter": "python",
   "pygments_lexer": "ipython3",
   "version": "3.6.2"
  }
 },
 "nbformat": 4,
 "nbformat_minor": 2
}
