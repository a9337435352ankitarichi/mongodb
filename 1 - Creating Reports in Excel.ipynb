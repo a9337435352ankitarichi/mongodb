{
 "cells": [
  {
   "cell_type": "markdown",
   "metadata": {},
   "source": [
    "# Creating Reports in Excel"
   ]
  },
  {
   "cell_type": "markdown",
   "metadata": {},
   "source": [
    "In this notebook we'll use two methods to create Excel reports from a MongoDB query:\n",
    "\n",
    "1. The to_excel function of Pandas\n",
    "2. The xlsxwriter Python library\n",
    "\n",
    "The first method is a very easy way to produce an Excel file, while the second allows for a greater amount of formatting."
   ]
  },
  {
   "cell_type": "markdown",
   "metadata": {},
   "source": [
    "## Method 1\n",
    "\n",
    "Method 1 uses the to_excel function of Pandas."
   ]
  },
  {
   "cell_type": "code",
   "execution_count": null,
   "metadata": {
    "collapsed": true
   },
   "outputs": [],
   "source": [
    "# Import the Python libraries we need\n",
    "from pymongo import MongoClient\n",
    "import pandas as pd\n",
    "from time import strftime"
   ]
  },
  {
   "cell_type": "code",
   "execution_count": null,
   "metadata": {},
   "outputs": [],
   "source": [
    "# Create a connection to MongoDB\n",
    "client = MongoClient('localhost', 27017)\n",
    "db = client.pythonbicookbook\n",
    "collection = db.accidents"
   ]
  },
  {
   "cell_type": "code",
   "execution_count": null,
   "metadata": {},
   "outputs": [],
   "source": [
    "# Get the first 1000 records where the accident happened on a Friday\n",
    "data = collection.find({\"Day_of_Week\": 6}).limit(1000)"
   ]
  },
  {
   "cell_type": "code",
   "execution_count": null,
   "metadata": {},
   "outputs": [],
   "source": [
    "# Create a new DataFrame from the MongoDB query\n",
    "df = pd.DataFrame(list(data))\n",
    "# Show the first 5 rows\n",
    "df.head()"
   ]
  },
  {
   "cell_type": "code",
   "execution_count": null,
   "metadata": {},
   "outputs": [],
   "source": [
    "# Delete the _id column as we don't need it and we can't write to the Excel file with it\n",
    "# This is the BSON Object ID from MongoDB\n",
    "df = df.drop(['_id'], axis=1)\n",
    "df.head()"
   ]
  },
  {
   "cell_type": "code",
   "execution_count": null,
   "metadata": {},
   "outputs": [],
   "source": [
    "# Create a variable to hold the path to our file\n",
    "base_path = \"/Users/robertdempsey/Dropbox/Private/Python Business Intelligence Cookbook/Drafts/Chapter 5/ch5_reports/\"\n",
    "report_file_name = strftime(\"%Y-%m-%d\") + \" Accidents Report.xlsx\"\n",
    "report_file = base_path + report_file_name"
   ]
  },
  {
   "cell_type": "code",
   "execution_count": null,
   "metadata": {},
   "outputs": [],
   "source": [
    "# Create a Pandas Excel writer using XlsxWriter as the engine.\n",
    "writer = pd.ExcelWriter(report_file, engine='xlsxwriter')\n",
    "\n",
    "# Use the to_excel function to write the file\n",
    "df.to_excel(writer,\n",
    "            sheet_name='Accidents',\n",
    "            header=True,\n",
    "            index=False,\n",
    "            na_rep='')\n",
    "\n",
    "# Close the Pandas Excel writer and output the Excel file.\n",
    "writer.save()"
   ]
  },
  {
   "cell_type": "markdown",
   "metadata": {
    "collapsed": true
   },
   "source": [
    "## Method 2\n",
    "\n",
    "Method 2 uses the Python xlsxwriter library"
   ]
  },
  {
   "cell_type": "code",
   "execution_count": null,
   "metadata": {
    "collapsed": true
   },
   "outputs": [],
   "source": [
    "# Import the Python libraries we need\n",
    "from pymongo import MongoClient\n",
    "from time import strftime\n",
    "import xlsxwriter"
   ]
  },
  {
   "cell_type": "code",
   "execution_count": null,
   "metadata": {},
   "outputs": [],
   "source": [
    "# Create a connection to MongoDB\n",
    "client = MongoClient('localhost', 27017)\n",
    "db = client.pythonbicookbook\n",
    "collection = db.accidents"
   ]
  },
  {
   "cell_type": "code",
   "execution_count": null,
   "metadata": {
    "collapsed": true
   },
   "outputs": [],
   "source": [
    "# Create a variable to hold the path to our file\n",
    "base_path = \"/Users/robertdempsey/Dropbox/Private/Python Business Intelligence Cookbook/Drafts/Chapter 5/ch5_reports/\"\n",
    "report_file_name = strftime(\"%Y-%m-%d\") + \" Accidents Report Method 2.xlsx\"\n",
    "report_file = base_path + report_file_name"
   ]
  },
  {
   "cell_type": "code",
   "execution_count": null,
   "metadata": {
    "collapsed": true
   },
   "outputs": [],
   "source": [
    "# Set up our Excel workbook\n",
    "accident_report = xlsxwriter.Workbook(report_file, {'constant_memory': True,\n",
    "                                                    'default_date_format': 'mm/dd/yy'})"
   ]
  },
  {
   "cell_type": "code",
   "execution_count": null,
   "metadata": {
    "collapsed": true
   },
   "outputs": [],
   "source": [
    "# Add some formats to the Excel file\n",
    "xl_header_format = accident_report.add_format()\n",
    "xl_header_format.set_bold()\n",
    "\n",
    "xl_missing_format = accident_report.add_format()\n",
    "xl_missing_format.set_bg_color('red')"
   ]
  },
  {
   "cell_type": "code",
   "execution_count": null,
   "metadata": {
    "collapsed": true
   },
   "outputs": [],
   "source": [
    "# Iterators we'll need to loop through the data\n",
    "e_row = 0\n",
    "e_col = 0"
   ]
  },
  {
   "cell_type": "code",
   "execution_count": null,
   "metadata": {
    "collapsed": true
   },
   "outputs": [],
   "source": [
    "# Create the worksheet\n",
    "worksheet = accident_report.add_worksheet('Accidents')"
   ]
  },
  {
   "cell_type": "code",
   "execution_count": null,
   "metadata": {
    "collapsed": true
   },
   "outputs": [],
   "source": [
    "# Get the keys from the collection to use as the header of the file\n",
    "headers = []\n",
    "# Get a single record from the collection\n",
    "doc = collection.find_one()\n",
    "# Iterate through the doc and add the keys to the array\n",
    "for key in doc:\n",
    "    headers.append(key)\n",
    "# Delete the _id column\n",
    "headers.remove('_id')"
   ]
  },
  {
   "cell_type": "code",
   "execution_count": null,
   "metadata": {
    "collapsed": true
   },
   "outputs": [],
   "source": [
    "# Add the sheet header\n",
    "i = 0\n",
    "for header in headers:\n",
    "    worksheet.write(e_row, e_col + i, headers[i], xl_header_format)\n",
    "    i += 1\n",
    "\n",
    "# Add one so when we start adding the data we start at the next row in the spreadsheet \n",
    "e_row += 1"
   ]
  },
  {
   "cell_type": "code",
   "execution_count": null,
   "metadata": {
    "collapsed": true
   },
   "outputs": [],
   "source": [
    "# Get the first 1000 records where the accident happened on a Friday\n",
    "data = collection.find({\"Day_of_Week\": 6}).limit(1000)"
   ]
  },
  {
   "cell_type": "code",
   "execution_count": null,
   "metadata": {},
   "outputs": [],
   "source": [
    "for doc in data:\n",
    "    e_col = 0\n",
    "    for value in headers:\n",
    "        worksheet.write(e_row, e_col, doc[value])\n",
    "        e_col += 1\n",
    "    e_row += 1"
   ]
  },
  {
   "cell_type": "code",
   "execution_count": null,
   "metadata": {
    "collapsed": true
   },
   "outputs": [],
   "source": [
    "# Close the file\n",
    "accident_report.close()"
   ]
  },
  {
   "cell_type": "code",
   "execution_count": null,
   "metadata": {
    "collapsed": true
   },
   "outputs": [],
   "source": []
  }
 ],
 "metadata": {
  "kernelspec": {
   "display_name": "Python 3",
   "language": "python",
   "name": "python3"
  },
  "language_info": {
   "codemirror_mode": {
    "name": "ipython",
    "version": 3
   },
   "file_extension": ".py",
   "mimetype": "text/x-python",
   "name": "python",
   "nbconvert_exporter": "python",
   "pygments_lexer": "ipython3",
   "version": "3.6.2"
  }
 },
 "nbformat": 4,
 "nbformat_minor": 1
}
