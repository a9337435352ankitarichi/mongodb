{
 "cells": [
  {
   "cell_type": "markdown",
   "metadata": {},
   "source": [
    "# Report Creation in Excel"
   ]
  },
  {
   "cell_type": "markdown",
   "metadata": {},
   "source": [
    "# Creating reports in excel directly from a Pandas dataframe"
   ]
  },
  {
   "cell_type": "code",
   "execution_count": 60,
   "metadata": {
    "collapsed": true
   },
   "outputs": [],
   "source": [
    "#importing the necessary libraries\n",
    "from pymongo import MongoClient\n",
    "import pandas as pd\n",
    "from time import strftime"
   ]
  },
  {
   "cell_type": "code",
   "execution_count": 61,
   "metadata": {
    "collapsed": true
   },
   "outputs": [],
   "source": [
    "#create a connection to MongoDB and specify accidents collection\n",
    "client=MongoClient('localhost',27017)\n",
    "db=client.pythonbicookbook\n",
    "collection=db.accidents"
   ]
  },
  {
   "cell_type": "code",
   "execution_count": 62,
   "metadata": {
    "collapsed": true
   },
   "outputs": [],
   "source": [
    "#retrieve first 1000 records where an accident happened on Friday\n",
    "data=collection.find({\"Day_of_Week\":6}).limit(1000)\n"
   ]
  },
  {
   "cell_type": "code",
   "execution_count": 63,
   "metadata": {
    "collapsed": true
   },
   "outputs": [],
   "source": [
    "#create a new dataframe from mongodb query\n",
    "df=pd.DataFrame(list(data))"
   ]
  },
  {
   "cell_type": "code",
   "execution_count": 64,
   "metadata": {},
   "outputs": [
    {
     "data": {
      "text/html": [
       "<div>\n",
       "<style>\n",
       "    .dataframe thead tr:only-child th {\n",
       "        text-align: right;\n",
       "    }\n",
       "\n",
       "    .dataframe thead th {\n",
       "        text-align: left;\n",
       "    }\n",
       "\n",
       "    .dataframe tbody tr th {\n",
       "        vertical-align: top;\n",
       "    }\n",
       "</style>\n",
       "<table border=\"1\" class=\"dataframe\">\n",
       "  <thead>\n",
       "    <tr style=\"text-align: right;\">\n",
       "      <th></th>\n",
       "      <th>1st_Road_Class</th>\n",
       "      <th>1st_Road_Number</th>\n",
       "      <th>2nd_Road_Class</th>\n",
       "      <th>2nd_Road_Number</th>\n",
       "      <th>Accident_Index</th>\n",
       "      <th>Accident_Severity</th>\n",
       "      <th>Carriageway_Hazards</th>\n",
       "      <th>Date</th>\n",
       "      <th>Day_of_Week</th>\n",
       "      <th>Did_Police_Officer_Attend_Scene_of_Accident</th>\n",
       "      <th>...</th>\n",
       "      <th>Pedestrian_Crossing-Physical_Facilities</th>\n",
       "      <th>Police_Force</th>\n",
       "      <th>Road_Surface_Conditions</th>\n",
       "      <th>Road_Type</th>\n",
       "      <th>Special_Conditions_at_Site</th>\n",
       "      <th>Speed_limit</th>\n",
       "      <th>Time</th>\n",
       "      <th>Urban_or_Rural_Area</th>\n",
       "      <th>Weather_Conditions</th>\n",
       "      <th>_id</th>\n",
       "    </tr>\n",
       "  </thead>\n",
       "  <tbody>\n",
       "    <tr>\n",
       "      <th>0</th>\n",
       "      <td>6</td>\n",
       "      <td>0</td>\n",
       "      <td>6</td>\n",
       "      <td>0</td>\n",
       "      <td>2009120020975</td>\n",
       "      <td>3</td>\n",
       "      <td>2</td>\n",
       "      <td>2009-02-06</td>\n",
       "      <td>6</td>\n",
       "      <td>2</td>\n",
       "      <td>...</td>\n",
       "      <td>0</td>\n",
       "      <td>12</td>\n",
       "      <td>2</td>\n",
       "      <td>6</td>\n",
       "      <td>0</td>\n",
       "      <td>30</td>\n",
       "      <td>16:10:00.0000000</td>\n",
       "      <td>1</td>\n",
       "      <td>1</td>\n",
       "      <td>5a54af9af8bc7a2fd05e5bc5</td>\n",
       "    </tr>\n",
       "    <tr>\n",
       "      <th>1</th>\n",
       "      <td>6</td>\n",
       "      <td>0</td>\n",
       "      <td>-1</td>\n",
       "      <td>0</td>\n",
       "      <td>2009120016492</td>\n",
       "      <td>3</td>\n",
       "      <td>0</td>\n",
       "      <td>2009-01-30</td>\n",
       "      <td>6</td>\n",
       "      <td>2</td>\n",
       "      <td>...</td>\n",
       "      <td>0</td>\n",
       "      <td>12</td>\n",
       "      <td>1</td>\n",
       "      <td>6</td>\n",
       "      <td>0</td>\n",
       "      <td>30</td>\n",
       "      <td>08:15:00.0000000</td>\n",
       "      <td>2</td>\n",
       "      <td>1</td>\n",
       "      <td>5a54af9af8bc7a2fd05e5bd0</td>\n",
       "    </tr>\n",
       "    <tr>\n",
       "      <th>2</th>\n",
       "      <td>6</td>\n",
       "      <td>0</td>\n",
       "      <td>-1</td>\n",
       "      <td>0</td>\n",
       "      <td>2009120054955</td>\n",
       "      <td>3</td>\n",
       "      <td>0</td>\n",
       "      <td>2009-04-03</td>\n",
       "      <td>6</td>\n",
       "      <td>1</td>\n",
       "      <td>...</td>\n",
       "      <td>0</td>\n",
       "      <td>12</td>\n",
       "      <td>1</td>\n",
       "      <td>6</td>\n",
       "      <td>0</td>\n",
       "      <td>30</td>\n",
       "      <td>18:34:00.0000000</td>\n",
       "      <td>1</td>\n",
       "      <td>1</td>\n",
       "      <td>5a54af9af8bc7a2fd05e5bdc</td>\n",
       "    </tr>\n",
       "    <tr>\n",
       "      <th>3</th>\n",
       "      <td>6</td>\n",
       "      <td>0</td>\n",
       "      <td>6</td>\n",
       "      <td>0</td>\n",
       "      <td>2009120077183</td>\n",
       "      <td>3</td>\n",
       "      <td>0</td>\n",
       "      <td>2009-05-08</td>\n",
       "      <td>6</td>\n",
       "      <td>2</td>\n",
       "      <td>...</td>\n",
       "      <td>0</td>\n",
       "      <td>12</td>\n",
       "      <td>1</td>\n",
       "      <td>6</td>\n",
       "      <td>0</td>\n",
       "      <td>30</td>\n",
       "      <td>15:50:00.0000000</td>\n",
       "      <td>1</td>\n",
       "      <td>1</td>\n",
       "      <td>5a54af9af8bc7a2fd05e5be2</td>\n",
       "    </tr>\n",
       "    <tr>\n",
       "      <th>4</th>\n",
       "      <td>3</td>\n",
       "      <td>1036</td>\n",
       "      <td>6</td>\n",
       "      <td>0</td>\n",
       "      <td>2009120081070</td>\n",
       "      <td>3</td>\n",
       "      <td>0</td>\n",
       "      <td>2009-05-15</td>\n",
       "      <td>6</td>\n",
       "      <td>1</td>\n",
       "      <td>...</td>\n",
       "      <td>0</td>\n",
       "      <td>12</td>\n",
       "      <td>2</td>\n",
       "      <td>6</td>\n",
       "      <td>0</td>\n",
       "      <td>30</td>\n",
       "      <td>09:00:00.0000000</td>\n",
       "      <td>1</td>\n",
       "      <td>2</td>\n",
       "      <td>5a54af9af8bc7a2fd05e5be4</td>\n",
       "    </tr>\n",
       "  </tbody>\n",
       "</table>\n",
       "<p>5 rows × 33 columns</p>\n",
       "</div>"
      ],
      "text/plain": [
       "   1st_Road_Class  1st_Road_Number  2nd_Road_Class  2nd_Road_Number  \\\n",
       "0               6                0               6                0   \n",
       "1               6                0              -1                0   \n",
       "2               6                0              -1                0   \n",
       "3               6                0               6                0   \n",
       "4               3             1036               6                0   \n",
       "\n",
       "   Accident_Index  Accident_Severity  Carriageway_Hazards        Date  \\\n",
       "0   2009120020975                  3                    2  2009-02-06   \n",
       "1   2009120016492                  3                    0  2009-01-30   \n",
       "2   2009120054955                  3                    0  2009-04-03   \n",
       "3   2009120077183                  3                    0  2009-05-08   \n",
       "4   2009120081070                  3                    0  2009-05-15   \n",
       "\n",
       "   Day_of_Week  Did_Police_Officer_Attend_Scene_of_Accident  \\\n",
       "0            6                                            2   \n",
       "1            6                                            2   \n",
       "2            6                                            1   \n",
       "3            6                                            2   \n",
       "4            6                                            1   \n",
       "\n",
       "             ...             Pedestrian_Crossing-Physical_Facilities  \\\n",
       "0            ...                                                   0   \n",
       "1            ...                                                   0   \n",
       "2            ...                                                   0   \n",
       "3            ...                                                   0   \n",
       "4            ...                                                   0   \n",
       "\n",
       "   Police_Force Road_Surface_Conditions  Road_Type  \\\n",
       "0            12                       2          6   \n",
       "1            12                       1          6   \n",
       "2            12                       1          6   \n",
       "3            12                       1          6   \n",
       "4            12                       2          6   \n",
       "\n",
       "   Special_Conditions_at_Site  Speed_limit              Time  \\\n",
       "0                           0           30  16:10:00.0000000   \n",
       "1                           0           30  08:15:00.0000000   \n",
       "2                           0           30  18:34:00.0000000   \n",
       "3                           0           30  15:50:00.0000000   \n",
       "4                           0           30  09:00:00.0000000   \n",
       "\n",
       "   Urban_or_Rural_Area  Weather_Conditions                       _id  \n",
       "0                    1                   1  5a54af9af8bc7a2fd05e5bc5  \n",
       "1                    2                   1  5a54af9af8bc7a2fd05e5bd0  \n",
       "2                    1                   1  5a54af9af8bc7a2fd05e5bdc  \n",
       "3                    1                   1  5a54af9af8bc7a2fd05e5be2  \n",
       "4                    1                   2  5a54af9af8bc7a2fd05e5be4  \n",
       "\n",
       "[5 rows x 33 columns]"
      ]
     },
     "execution_count": 64,
     "metadata": {},
     "output_type": "execute_result"
    }
   ],
   "source": [
    "df.head()"
   ]
  },
  {
   "cell_type": "code",
   "execution_count": 65,
   "metadata": {},
   "outputs": [
    {
     "data": {
      "text/html": [
       "<div>\n",
       "<style>\n",
       "    .dataframe thead tr:only-child th {\n",
       "        text-align: right;\n",
       "    }\n",
       "\n",
       "    .dataframe thead th {\n",
       "        text-align: left;\n",
       "    }\n",
       "\n",
       "    .dataframe tbody tr th {\n",
       "        vertical-align: top;\n",
       "    }\n",
       "</style>\n",
       "<table border=\"1\" class=\"dataframe\">\n",
       "  <thead>\n",
       "    <tr style=\"text-align: right;\">\n",
       "      <th></th>\n",
       "      <th>1st_Road_Class</th>\n",
       "      <th>1st_Road_Number</th>\n",
       "      <th>2nd_Road_Class</th>\n",
       "      <th>2nd_Road_Number</th>\n",
       "      <th>Accident_Index</th>\n",
       "      <th>Accident_Severity</th>\n",
       "      <th>Carriageway_Hazards</th>\n",
       "      <th>Date</th>\n",
       "      <th>Day_of_Week</th>\n",
       "      <th>Did_Police_Officer_Attend_Scene_of_Accident</th>\n",
       "      <th>...</th>\n",
       "      <th>Pedestrian_Crossing-Human_Control</th>\n",
       "      <th>Pedestrian_Crossing-Physical_Facilities</th>\n",
       "      <th>Police_Force</th>\n",
       "      <th>Road_Surface_Conditions</th>\n",
       "      <th>Road_Type</th>\n",
       "      <th>Special_Conditions_at_Site</th>\n",
       "      <th>Speed_limit</th>\n",
       "      <th>Time</th>\n",
       "      <th>Urban_or_Rural_Area</th>\n",
       "      <th>Weather_Conditions</th>\n",
       "    </tr>\n",
       "  </thead>\n",
       "  <tbody>\n",
       "    <tr>\n",
       "      <th>0</th>\n",
       "      <td>6</td>\n",
       "      <td>0</td>\n",
       "      <td>6</td>\n",
       "      <td>0</td>\n",
       "      <td>2009120020975</td>\n",
       "      <td>3</td>\n",
       "      <td>2</td>\n",
       "      <td>2009-02-06</td>\n",
       "      <td>6</td>\n",
       "      <td>2</td>\n",
       "      <td>...</td>\n",
       "      <td>0</td>\n",
       "      <td>0</td>\n",
       "      <td>12</td>\n",
       "      <td>2</td>\n",
       "      <td>6</td>\n",
       "      <td>0</td>\n",
       "      <td>30</td>\n",
       "      <td>16:10:00.0000000</td>\n",
       "      <td>1</td>\n",
       "      <td>1</td>\n",
       "    </tr>\n",
       "    <tr>\n",
       "      <th>1</th>\n",
       "      <td>6</td>\n",
       "      <td>0</td>\n",
       "      <td>-1</td>\n",
       "      <td>0</td>\n",
       "      <td>2009120016492</td>\n",
       "      <td>3</td>\n",
       "      <td>0</td>\n",
       "      <td>2009-01-30</td>\n",
       "      <td>6</td>\n",
       "      <td>2</td>\n",
       "      <td>...</td>\n",
       "      <td>0</td>\n",
       "      <td>0</td>\n",
       "      <td>12</td>\n",
       "      <td>1</td>\n",
       "      <td>6</td>\n",
       "      <td>0</td>\n",
       "      <td>30</td>\n",
       "      <td>08:15:00.0000000</td>\n",
       "      <td>2</td>\n",
       "      <td>1</td>\n",
       "    </tr>\n",
       "    <tr>\n",
       "      <th>2</th>\n",
       "      <td>6</td>\n",
       "      <td>0</td>\n",
       "      <td>-1</td>\n",
       "      <td>0</td>\n",
       "      <td>2009120054955</td>\n",
       "      <td>3</td>\n",
       "      <td>0</td>\n",
       "      <td>2009-04-03</td>\n",
       "      <td>6</td>\n",
       "      <td>1</td>\n",
       "      <td>...</td>\n",
       "      <td>0</td>\n",
       "      <td>0</td>\n",
       "      <td>12</td>\n",
       "      <td>1</td>\n",
       "      <td>6</td>\n",
       "      <td>0</td>\n",
       "      <td>30</td>\n",
       "      <td>18:34:00.0000000</td>\n",
       "      <td>1</td>\n",
       "      <td>1</td>\n",
       "    </tr>\n",
       "    <tr>\n",
       "      <th>3</th>\n",
       "      <td>6</td>\n",
       "      <td>0</td>\n",
       "      <td>6</td>\n",
       "      <td>0</td>\n",
       "      <td>2009120077183</td>\n",
       "      <td>3</td>\n",
       "      <td>0</td>\n",
       "      <td>2009-05-08</td>\n",
       "      <td>6</td>\n",
       "      <td>2</td>\n",
       "      <td>...</td>\n",
       "      <td>0</td>\n",
       "      <td>0</td>\n",
       "      <td>12</td>\n",
       "      <td>1</td>\n",
       "      <td>6</td>\n",
       "      <td>0</td>\n",
       "      <td>30</td>\n",
       "      <td>15:50:00.0000000</td>\n",
       "      <td>1</td>\n",
       "      <td>1</td>\n",
       "    </tr>\n",
       "    <tr>\n",
       "      <th>4</th>\n",
       "      <td>3</td>\n",
       "      <td>1036</td>\n",
       "      <td>6</td>\n",
       "      <td>0</td>\n",
       "      <td>2009120081070</td>\n",
       "      <td>3</td>\n",
       "      <td>0</td>\n",
       "      <td>2009-05-15</td>\n",
       "      <td>6</td>\n",
       "      <td>1</td>\n",
       "      <td>...</td>\n",
       "      <td>0</td>\n",
       "      <td>0</td>\n",
       "      <td>12</td>\n",
       "      <td>2</td>\n",
       "      <td>6</td>\n",
       "      <td>0</td>\n",
       "      <td>30</td>\n",
       "      <td>09:00:00.0000000</td>\n",
       "      <td>1</td>\n",
       "      <td>2</td>\n",
       "    </tr>\n",
       "  </tbody>\n",
       "</table>\n",
       "<p>5 rows × 32 columns</p>\n",
       "</div>"
      ],
      "text/plain": [
       "   1st_Road_Class  1st_Road_Number  2nd_Road_Class  2nd_Road_Number  \\\n",
       "0               6                0               6                0   \n",
       "1               6                0              -1                0   \n",
       "2               6                0              -1                0   \n",
       "3               6                0               6                0   \n",
       "4               3             1036               6                0   \n",
       "\n",
       "   Accident_Index  Accident_Severity  Carriageway_Hazards        Date  \\\n",
       "0   2009120020975                  3                    2  2009-02-06   \n",
       "1   2009120016492                  3                    0  2009-01-30   \n",
       "2   2009120054955                  3                    0  2009-04-03   \n",
       "3   2009120077183                  3                    0  2009-05-08   \n",
       "4   2009120081070                  3                    0  2009-05-15   \n",
       "\n",
       "   Day_of_Week  Did_Police_Officer_Attend_Scene_of_Accident  \\\n",
       "0            6                                            2   \n",
       "1            6                                            2   \n",
       "2            6                                            1   \n",
       "3            6                                            2   \n",
       "4            6                                            1   \n",
       "\n",
       "          ...          Pedestrian_Crossing-Human_Control  \\\n",
       "0         ...                                          0   \n",
       "1         ...                                          0   \n",
       "2         ...                                          0   \n",
       "3         ...                                          0   \n",
       "4         ...                                          0   \n",
       "\n",
       "   Pedestrian_Crossing-Physical_Facilities Police_Force  \\\n",
       "0                                        0           12   \n",
       "1                                        0           12   \n",
       "2                                        0           12   \n",
       "3                                        0           12   \n",
       "4                                        0           12   \n",
       "\n",
       "   Road_Surface_Conditions  Road_Type  Special_Conditions_at_Site Speed_limit  \\\n",
       "0                        2          6                           0          30   \n",
       "1                        1          6                           0          30   \n",
       "2                        1          6                           0          30   \n",
       "3                        1          6                           0          30   \n",
       "4                        2          6                           0          30   \n",
       "\n",
       "               Time  Urban_or_Rural_Area  Weather_Conditions  \n",
       "0  16:10:00.0000000                    1                   1  \n",
       "1  08:15:00.0000000                    2                   1  \n",
       "2  18:34:00.0000000                    1                   1  \n",
       "3  15:50:00.0000000                    1                   1  \n",
       "4  09:00:00.0000000                    1                   2  \n",
       "\n",
       "[5 rows x 32 columns]"
      ]
     },
     "execution_count": 65,
     "metadata": {},
     "output_type": "execute_result"
    }
   ],
   "source": [
    "#drop the id column\n",
    "df=df.drop(['_id'],axis=1)\n",
    "df.head()"
   ]
  },
  {
   "cell_type": "code",
   "execution_count": 66,
   "metadata": {
    "collapsed": true
   },
   "outputs": [],
   "source": [
    "base_path=\"C:/Users/HP/Downloads/python/Business Intelligence/9781785287466_Code/ch5_reports/\""
   ]
  },
  {
   "cell_type": "code",
   "execution_count": 67,
   "metadata": {
    "collapsed": true
   },
   "outputs": [],
   "source": [
    "report_file_name=strftime(\"%Y-%m-%d\") + \"AccidentsReport.xlsx\""
   ]
  },
  {
   "cell_type": "code",
   "execution_count": 68,
   "metadata": {
    "collapsed": true
   },
   "outputs": [],
   "source": [
    "report_file = base_path + report_file_name"
   ]
  },
  {
   "cell_type": "code",
   "execution_count": 69,
   "metadata": {
    "collapsed": true
   },
   "outputs": [],
   "source": [
    "#next create a pandas excel writer using xlsxwriter as engine\n",
    "writer=pd.ExcelWriter(report_file,engine='xlsxwriter')"
   ]
  },
  {
   "cell_type": "code",
   "execution_count": 46,
   "metadata": {
    "collapsed": true
   },
   "outputs": [],
   "source": [
    "#to write this file\n",
    "df.to_excel(writer,\n",
    "           sheet_name='Accidents',\n",
    "           header=True,\n",
    "           index=False,\n",
    "           na_rep='')"
   ]
  },
  {
   "cell_type": "code",
   "execution_count": 47,
   "metadata": {
    "collapsed": true
   },
   "outputs": [],
   "source": [
    "writer.save()"
   ]
  },
  {
   "cell_type": "markdown",
   "metadata": {},
   "source": [
    "# Creating customizable excel reports using xlsxwriter"
   ]
  },
  {
   "cell_type": "code",
   "execution_count": 108,
   "metadata": {
    "collapsed": true
   },
   "outputs": [],
   "source": [
    "import pandas as pd\n",
    "from pymongo import MongoClient\n",
    "from time import strftime\n",
    "import xlsxwriter"
   ]
  },
  {
   "cell_type": "code",
   "execution_count": 109,
   "metadata": {
    "collapsed": true
   },
   "outputs": [],
   "source": [
    "client=MongoClient('localhost',27017)\n",
    "db=client.pythonbicookbook\n",
    "collection=db.accidents"
   ]
  },
  {
   "cell_type": "code",
   "execution_count": 110,
   "metadata": {
    "collapsed": true
   },
   "outputs": [],
   "source": [
    "#find data of friday and extract only 1000 records\n",
    "data=collection.find({\"Day_of_Week\":6}).limit(1000)"
   ]
  },
  {
   "cell_type": "code",
   "execution_count": 111,
   "metadata": {
    "collapsed": true
   },
   "outputs": [],
   "source": [
    "# Create a variable to hold the path to our file\n",
    "base_path=\"C:/Users/HP/Downloads/python/Business Intelligence/9781785287466_Code/ch5_reports/\"\n",
    "report_file_name = strftime(\"%Y-%m-%d\") + \" AccidentsReportMethod2.xlsx\"\n",
    "report_file = base_path + report_file_name"
   ]
  },
  {
   "cell_type": "code",
   "execution_count": 112,
   "metadata": {
    "collapsed": true
   },
   "outputs": [],
   "source": [
    "# Set up our Excel workbook\n",
    "accident_report = xlsxwriter.Workbook(report_file, {'constant_memory': True,\n",
    "                                                    'default_date_format': 'mm/dd/yy'})"
   ]
  },
  {
   "cell_type": "code",
   "execution_count": 113,
   "metadata": {
    "collapsed": true
   },
   "outputs": [],
   "source": [
    "#adding some formats to the excel file\n",
    "xl_header_format=accident_report.add_format()\n",
    "xl_header_format.set_bold()\n",
    "xl_missing_format=accident_report.add_format()\n",
    "xl_missing_format.set_bg_color('red')"
   ]
  },
  {
   "cell_type": "code",
   "execution_count": 114,
   "metadata": {
    "collapsed": true
   },
   "outputs": [],
   "source": [
    "#creating the iterators to loop through the data\n",
    "e_row=0\n",
    "e_col=0"
   ]
  },
  {
   "cell_type": "code",
   "execution_count": 115,
   "metadata": {},
   "outputs": [],
   "source": [
    "#creating a worksheet to be added to notebook\n",
    "worksheet=accident_report.add_worksheet('Accidents')"
   ]
  },
  {
   "cell_type": "code",
   "execution_count": 116,
   "metadata": {
    "collapsed": true
   },
   "outputs": [],
   "source": [
    "#get keys from collection to use as header of the file\n",
    "headers=[]\n",
    "doc=collection.find_one()\n",
    "for key in doc:\n",
    "    headers.append(key)"
   ]
  },
  {
   "cell_type": "code",
   "execution_count": 117,
   "metadata": {
    "collapsed": true
   },
   "outputs": [],
   "source": [
    "#delete the _id column\n",
    "headers.remove('_id')"
   ]
  },
  {
   "cell_type": "code",
   "execution_count": 118,
   "metadata": {
    "collapsed": true
   },
   "outputs": [],
   "source": [
    "# Add the sheet header\n",
    "i = 0\n",
    "for header in headers:\n",
    "    worksheet.write(e_row, e_col + i, headers[i])\n",
    "    i += 1\n",
    "\n",
    "# Add one so when we start adding the data we start at the next row in the spreadsheet \n",
    "e_row += 1"
   ]
  },
  {
   "cell_type": "code",
   "execution_count": 119,
   "metadata": {
    "collapsed": true
   },
   "outputs": [],
   "source": [
    "# Get the first 1000 records where the accident happened on a Friday\n",
    "data = collection.find({\"Day_of_Week\": 6}).limit(1000)"
   ]
  },
  {
   "cell_type": "code",
   "execution_count": 120,
   "metadata": {
    "collapsed": true
   },
   "outputs": [],
   "source": [
    "for doc in data:\n",
    "    e_col = 0\n",
    "    for value in headers:\n",
    "        worksheet.write(e_row, e_col, doc[value])\n",
    "        e_col += 1\n",
    "    e_row += 1"
   ]
  },
  {
   "cell_type": "code",
   "execution_count": 121,
   "metadata": {
    "collapsed": true
   },
   "outputs": [],
   "source": [
    "# Close the file\n",
    "accident_report.close()"
   ]
  },
  {
   "cell_type": "code",
   "execution_count": null,
   "metadata": {
    "collapsed": true
   },
   "outputs": [],
   "source": []
  }
 ],
 "metadata": {
  "kernelspec": {
   "display_name": "Python 3",
   "language": "python",
   "name": "python3"
  },
  "language_info": {
   "codemirror_mode": {
    "name": "ipython",
    "version": 3
   },
   "file_extension": ".py",
   "mimetype": "text/x-python",
   "name": "python",
   "nbconvert_exporter": "python",
   "pygments_lexer": "ipython3",
   "version": "3.6.2"
  }
 },
 "nbformat": 4,
 "nbformat_minor": 2
}
